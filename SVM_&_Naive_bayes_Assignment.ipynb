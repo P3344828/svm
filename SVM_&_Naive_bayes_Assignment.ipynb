{
  "nbformat": 4,
  "nbformat_minor": 0,
  "metadata": {
    "colab": {
      "provenance": []
    },
    "kernelspec": {
      "name": "python3",
      "display_name": "Python 3"
    },
    "language_info": {
      "name": "python"
    }
  },
  "cells": [
    {
      "cell_type": "markdown",
      "source": [
        "# SVM & Naive Bayes Assignment\n",
        "\n",
        "\n",
        "1. What is a Support Vector Machine (SVM) ?\n",
        "\n",
        "- A Support Vector Machine (SVM) is a supervised learning algorithm used for classification and regression. It aims to find the optimal hyperplane that maximally separates data points of different classes in a feature space. In non-linear cases, it uses kernel functions to project data into higher dimensions where linear separation is possible. The model relies on a subset of training data called support vectors, which define the decision boundary.\n",
        "\n",
        "2. What is the difference between Hard Margin and Soft Margin SVM ?\n",
        "\n",
        "- Hard Margin SVM is used when the data is perfectly linearly separable. It maximizes the margin with no allowance for misclassification.\n",
        "            \n",
        "                min(w,b) 1/2 ​∥w∥2 subject to  yi​(wTxi​+b) ≥ 1\n",
        "\n",
        "- Soft Margin SVM allows some misclassifications using slack variables 𝜉𝑖 to handle non-separable or noisy data, and introduces a regularization parameter C.\n",
        "               \n",
        "               min(w,b,𝜉) 1/2 ∥w∥2 + C ∑ξi​ subject to yi​(wTxi​+b) ≥ 1 − ξi​\n",
        "\n",
        "- Key Difference\n",
        "  - Hard Margin - no errors allowed\n",
        "  - Soft Margin - allows erros to improve generalization\n",
        "\n",
        "3. What is the mathematical intuition behind SVM ?\n",
        "\n",
        "- Support Vector Machine (SVM) aims to find the optimal hyperplane 𝑤𝑇𝑥+𝑏=0 that maximizes the margin between two classes.\n",
        "For linearly separable data, this is formulated as:\n",
        "              \n",
        "              min(w,b) 1/2 ∥w∥2 subject to yi​(wTxi​+b) ≥ 1\n",
        "\n",
        "The margin is 2/∥𝑤∥, and maximizing it improves generalization.\n",
        "- When data is not linearly separable, slack variables ξi​ and a regularization parameter C are introduced:\n",
        "            \n",
        "             min(w,b,𝜉) 1/2 ∥w∥2 + C ∑ξi​ subject to yi​(wTxi​+b) ≥ 1 − ξi​\n",
        "\n",
        "Using the dual formulation, the problem depends only on inner products, allowing the use of kernel functions K(xi​,xj​) for non-linear classification.\n",
        "- The final decision function is:\n",
        "             \n",
        "             f(x) = sign (i = 1 ∑m ​αi​yi​ K(xi​,x) +b)\n",
        "\n",
        "Only points with αi​>0 ( the support vectors) determine the decision boundary.\n",
        "\n",
        "4. What is the role of Lagrange Multipliers in SVM ?\n",
        "\n",
        "- Lagrange multipliers are used in SVM to transform the primal constrained optimization problem into its dual from, which is easier to solve and allows the use of kernel functions.\n",
        "\n",
        "- They help:\n",
        "  - Enforce the classification constraints: yi​(wTxi​+b) ≥ 1\n",
        "  - Identify support vectors (where αi​ > 0)\n",
        "  - Express the decision function in terms of dot products or kernels:\n",
        "\n",
        "               f(x) = sign (i=1 ∑m ​αi​yi ​K(xi​,x) +b)\n",
        "\n",
        "- Lagrange multipliers are key to enabling efficient and kernel-based SVM training.\n",
        "\n",
        "5. What are Support Vectors in SVM ?\n",
        "\n",
        "- Support Vectors are the data points that lie closest to the decision boundary (hyperplane) in a Support Vector Machine (SVM). They are the critical elements of the training dataset because they directly determine the position and orientation of the optimal hyperplane.\n",
        "- In the dual formulation of SVM, the decision function is:\n",
        "               \n",
        "               f(x) = sign (i=1 ∑m ​αi​yi ​K(xi​,x) +b)\n",
        "                 \n",
        "- Only data points with non-zero Lagrange Multipliers αi​ > 0 are called Support Vectors.\n",
        "- These points lie on the margin or violate it (in soft-margin SVM)\n",
        "\n",
        "6. What is a Support Vector Classifier (SVC) ?\n",
        "\n",
        "- A Support Vector Classifier (SVC) is the classification implementation of the Support Vector Machine (SVM). It finds the optimal hyperplane that maximizes the margin between classes in a labeled dataset. In cases of non-linear separability, it uses kernel functions to project data into higher-dimensional spaces where linear separation is possible.\n",
        "- Objective (soft margin)\n",
        "           \n",
        "           min(w,b,𝜉) 1/2 ∥w∥2 + C ∑ξi​ subject to yi​(wTxi​+b) ≥ 1 − ξi​\n",
        "\n",
        "7. What is a Support Vector Regressor (SVR) ?\n",
        "\n",
        "- A Support Vector Regressor (SVR) is the regression counterpart of SVM. Instead of classifying, it fits a fucntion that predicts continuous values, aiming to stay within a predefined ε-insensitive margin from the true values, while minimizing model complexity.\n",
        "- Objective\n",
        "          \n",
        "         min(w,b,ξi​,ξi∗​) 1/2 ∥w∥2 + C i=1∑m ​(ξi​+ξi∗​)\n",
        "\n",
        "         subject to\n",
        "\n",
        "         ​yi​−wTxi​ −b ≤ ε+ξi\n",
        "         wTxi​+b−yi​ ≤ ε+ξi∗\n",
        "         ​ξi​,ξi∗​≥0​\n",
        "\n",
        "- SVR uses support vectors to define the regression function and can also be extended to non-linear problems using kernels.\n",
        "\n",
        "8. What is the Kernel Trick in SVM ?\n",
        "\n",
        "- The Kernel Trick allows SVM to perform non-linear classification by implicitly mapping data to a higher-dimensional space without computing the mapping explicitly.\n",
        "- Instead of using 𝑥𝑖𝑇 𝑥𝑗 it uses a kernel function:\n",
        "          \n",
        "          𝐾(𝑥𝑖,𝑥𝑗) = 𝜙(𝑥𝑖)𝑇 𝜙(𝑥𝑗)\n",
        "\n",
        "- This enables SVM to find non-linear decision boundaries efficiently.\n",
        "- Common kernels: Linear, polynomial, RBF, Sigmoid.\n",
        "\n",
        "9. Compare Linear Kernel, Polynomial Kernel, and RBF Kernel.\n",
        "\n",
        "- Linear Kernel:\n",
        "\n",
        "     K(x,x′)=xTx′\n",
        "\n",
        "  - Linearly separable data; high-dimensional features\n",
        "  - Simple, fast, interpretable\n",
        "  - Cannot model non-linear relationships\n",
        "\n",
        "- Polynomial Kernel:\n",
        "\n",
        "     K(x,x′)=(xTx′+c)d\n",
        "\n",
        "  - Data with polynomial decision boundaries\n",
        "  - Captures interactions up to degree 𝑑\n",
        "  - Sensitive to choice of 𝑑; slower; risk of overfitting\n",
        "\n",
        "- RBF Kernel:\n",
        "\n",
        "    K(x,x′)=exp(−γ∥x−x′∥2)\n",
        "    \n",
        "  - Non-linear, unknown data structures\n",
        "  - Highly flexible, handles complex patterns\n",
        "  - Requires careful tuning of 𝛾 may overfit\n",
        "\n",
        "10. What is the effect of the C parameter in SVM ?\n",
        "\n",
        "- The 𝐶 parameter in SVM controls the trade-off between maximizing the margin and minimizing classification error.\n",
        "- High 𝐶 → Less tolerance for misclassification (tries to fit training data better, may overfit).\n",
        "- Low 𝐶 → Allows more misclassifications (wider margin, better generalization).\n",
        "- In Soft Margin SVM:\n",
        "          \n",
        "          \n",
        "             min 1/2 ​∥w∥2 + C ∑ξi​\n",
        "\n",
        "  - Here, 𝐶 penalizes margin violations. Choosing the right 𝐶 is crucial for model performance.\n",
        "\n",
        "11. What is the role of the Gamma parameter in RBF Kernel SVM ?\n",
        "\n",
        "- The Gamma (γ) parameter in the Radial Basis Function (RBF) kernel for a Support Vector Machine (SVM) plays a crucial role in controlling the influence of each training example. The Gamma (γ) parameter defines the influence of a single training example:\n",
        "- Low gamma: Broad influence, leading to smoother decision boundaries (risk of underfitting).\n",
        "- High gamma: Narrow influence, resulting in more complex boundaries (risk of overfitting).\n",
        "- Gamma controls the flexibility of the decision surface and must be carefully tuned to balance bias and variance.\n",
        "\n",
        "12. What is the Naive Bayes classifier, and why is it called \"Naive\" ?\n",
        "\n",
        "- The Naive Bayes classifier is a probabilistic model based on Bayes Theorem, used for classification.\n",
        "- It predicts the class of a data point based on the posterior probability:\n",
        "\n",
        "          \n",
        "           P(C ∣ X) = P(X ∣ C)⋅P(C) ​/ P(X)\n",
        "\n",
        "   - where:\n",
        "     - 𝐶 is the class,\n",
        "     - 𝑋 is the feature vector.\n",
        "\n",
        "- It is called \"Naive\" because it assumes that all features are conditionally independent given the class label- an assumption that is rarely true in real- world data. Naive Bayes often performs well, especially in text classification and spam filtering, due to its simplicity and efficiency.\n",
        "\n",
        "13. What is Bayes' Theorem ?\n",
        "\n",
        "- Bayes' Theorem describes the probability of an event based on prior knowledge of related conditions. It is stated as:\n",
        "           \n",
        "         \n",
        "           P(A | B) = P(B | A).P(A) / P(B)\n",
        "\n",
        "- Where\n",
        "  - (P(A | B)) = Posterior probability (probability of A given B)\n",
        "  - (P(B | A)) = Likelihood (probability of B given A)\n",
        "  - P(A) = Prior probability of A\n",
        "  - P(B) = Marginal probability of B\n",
        "\n",
        "- Bayes' Theorem updates the probability of a hypothesis as new evidence is observed.\n",
        "\n",
        "14. Explain the differences between Gaussian Naive Bayes, Multinomial Naive Bayes,and Bernoulli Naive Bayes.\n",
        "\n",
        "- Gaussian Naive Bayes:\n",
        "  - Assumes: Features follow a normal (Gaussian) distribution.\n",
        "  - Use Case: Continuous numerical data.\n",
        "  - Example: Predicting disease based on body tempreture, blood pressure, etc.\n",
        "     \n",
        "          \n",
        "           P(x_i | y) ∼ N(μ_{y,i}, σ_{y,i}^2)\n",
        "\n",
        "- Multinomial Naive Bayes:\n",
        "  - Assumes: Features represent discrete frequency counts (non-negative integers).\n",
        "  - Use Case: Document classification based on word counts.\n",
        "  - Example: Spam detection using word frequency in emails.\n",
        "\n",
        "- Bernoulli Naive Bayes:\n",
        "  - Assumes: Features are binary (0 or 1), indicating presence or absence.\n",
        "  - Use Case: Text classification with binary word occurrence.\n",
        "  - Example: Classifying documents by whether specific keywords are present.\n",
        "\n",
        "15. When should you use Gaussian Naive Bayes over other variants ?\n",
        "\n",
        "- Gaussian Naive Bayes should be used when the inut features are continuous and are assumed to follow a normal (Gaussian) distribution. It is most suitable for datasets with real-valued numerical features, such as those found in medical, biological, or sensor-based applications.\n",
        "\n",
        "- It is preferred over other variants when:\n",
        "  - The features are not counts (use Multinomial in that case).\n",
        "  - The features are not binary (use Bernoulli for binary features).\n",
        "  - The distribution of each feature, given the class, resembles a bell curve.\n",
        "\n",
        "16. What are the key assumptions made by Naive Bayes ?\n",
        "\n",
        "- Key assumptions are:\n",
        "  - Conditional Independence: All features are assumed to be conditionally independent given the class label.\n",
        "  - Feature Distribution: Each feature follows a specific probability distribution conditioned on the class (e.g., Gaussian, Multinomial, or Bernoulli).\n",
        "  - Class Conditionality: The likelihood of the features depends solely on the class label, independent of other variables.\n",
        "\n",
        "17. What are the advantages and disadvantages of Naive Bayes ?\n",
        "\n",
        "- Advantages:\n",
        "  - Computationally efficient and fast.\n",
        "  - Effective with high-dimensional data.\n",
        "  - Requires relatively small training data.\n",
        "  - Provides probabilistic classification.\n",
        "\n",
        "- Disadvantages:\n",
        "  - Assumes conditional independence of features, which is often unrealistic.\n",
        "  - Performance degrades with correlated features.\n",
        "  - Depends on correct distribution assumptions.\n",
        "  - May be less accurate than more complex models.\n",
        "\n",
        "18. Why is Naive Bayes a good choice for text classification ?\n",
        "\n",
        "- Naive Bayes is well-suited for text classification because:\n",
        "- It efficiently handles high-dimensional, sparse data typical of text (e.g., word counts).\n",
        "- The conditional independence assumption simplifies computation despite word dependencies.\n",
        "- It requires relatively small trainig data to perform effectively.\n",
        "- It provides probabilistic outputs, useful for ranking and decision-making.\n",
        "- It is fast to train and predict, enabling scalable text processing.\n",
        "\n",
        "19. Compare SVM and Naive Bayes for classification tasks.\n",
        "\n",
        "- SVM\n",
        "  - Discriminative, margin-based classifier\n",
        "  - No strong feature independence assumptions\n",
        "  - Supports kernels for non-linear boundaries\n",
        "  - Often higher accuracy, especially on complex or non-linear data\n",
        "  - Computationally intensive, slower on large datasets\n",
        "  - Less interpretable\n",
        "  - Robust to correlated features and noise\n",
        "  - Requires careful tuning and sufficient data\n",
        "- Naive Bayes\n",
        "  - Generative probabilistic classifier\n",
        "  - Assumes conditional independence of features\n",
        "  - Limited to predefined feature distributions\n",
        "  - Performs well on high-dimensional, sparse data, e.g., text\n",
        "  - Fast and efficient even with large feature sets\n",
        "  - More interpretable via probabilities\n",
        "  - Sensitive to correlated features and zero-frequency issues\n",
        "  - Performs well with smaller datasets\n",
        "                                          \n",
        "20. How does Laplace smoothing help in Naive Bayes ?\n",
        "\n",
        "- Laplace smoothing (also called add-one smoothing) in Naive Bayes addresses the problem of zero probabilities for features that do not appear in the training data for a given class. Without smoothing, a zero probability for any feature would make the entire class probability zero.\n",
        "\n",
        "- It helps:\n",
        "   - Adds a small constant (usually 1) to all feature counts,\n",
        "   - Ensures no zero probabilties, allowing the model to handle unseen features gracefully.\n",
        "   - Improves generalization by preventing the model from assigning zero likelihood to new data.\n"
      ],
      "metadata": {
        "id": "UtZvq3dSNvdG"
      }
    },
    {
      "cell_type": "code",
      "source": [
        "# 21. Write a Python program to train an SVM Classifier on the Iris dataset and evaluate accuracy.\n",
        "\n",
        "import warnings\n",
        "warnings.filterwarnings(\"ignore\")\n",
        "\n",
        "from sklearn import datasets\n",
        "iris = datasets.load_iris() # load the data\n",
        "x = iris.data\n",
        "y = iris.target\n",
        "\n",
        "from sklearn.model_selection import train_test_split\n",
        "# split the dataset into train and test sets\n",
        "x_train, x_test, y_train, y_test = train_test_split(x, y, test_size=0.20, random_state=1)\n",
        "\n",
        "from sklearn.svm import SVC\n",
        "classifier = SVC()  # Create classifier\n",
        "classifier.fit(x_train, y_train) # Train the classifier\n",
        "y_pred = classifier.predict(x_test) # predict test set\n",
        "\n",
        "from sklearn.metrics import accuracy_score\n",
        "score = accuracy_score(y_test, y_pred)\n",
        "print(f\"Accuracy of the SVM classifier on Iris dataset: {score:.2f}\")"
      ],
      "metadata": {
        "colab": {
          "base_uri": "https://localhost:8080/"
        },
        "id": "61ZIVbWn91a1",
        "outputId": "e135d587-02c9-40da-b0ce-1a07052a487a"
      },
      "execution_count": 18,
      "outputs": [
        {
          "output_type": "stream",
          "name": "stdout",
          "text": [
            "Accuracy of the SVM classifier on Iris dataset: 0.97\n"
          ]
        }
      ]
    },
    {
      "cell_type": "code",
      "source": [
        "# 22. Write a Python program to train two SVM Classifiers with Linear and RBF kernels on the Wine dataset, then compare their accuracies.\n",
        "\n",
        "from sklearn.datasets import load_wine\n",
        "wine = datasets.load_wine() # Load the wine dataset\n",
        "x = wine.data\n",
        "y = wine.target\n",
        "\n",
        "from sklearn.model_selection import train_test_split\n",
        "# split the dataset into train and test sets\n",
        "x_train, x_test, y_train, y_test = train_test_split(x, y, test_size=0.20, random_state=1)\n",
        "\n",
        "from sklearn.svm import SVC\n",
        "from sklearn.metrics import accuracy_score\n",
        "\n",
        "# Train SVM with Linear kernel\n",
        "linear_svm = SVC(kernel = 'linear')\n",
        "linear_svm.fit(x_train, y_train)\n",
        "linear_pred = linear_svm.predict(x_test)\n",
        "linear_score = accuracy_score(y_test, linear_pred)\n",
        "\n",
        "# Train SVm with RBF kernel\n",
        "rbf_svm = SVC(kernel = 'rbf')\n",
        "rbf_svm.fit(x_train, y_train)\n",
        "rbf_pred = rbf_svm.predict(x_test)\n",
        "rbf_score = accuracy_score(y_test, rbf_pred)\n",
        "\n",
        "# Print accuracy score comparison\n",
        "print(f\"Accuracy of SVM with Linear kernel: {linear_score:.2f}\")\n",
        "print(f\"Accuracy of SVM with RBF kernel:    {rbf_score:.2f}\")\n",
        "\n",
        "# Better performance\n",
        "if linear_score > rbf_score:\n",
        "    print(\"Linear kernel performed better.\")\n",
        "elif rbf_score > linear_score:\n",
        "    print(\"RBF kernel performed better.\")\n",
        "else:\n",
        "    print(\"Both kernels performed equally.\")\n"
      ],
      "metadata": {
        "colab": {
          "base_uri": "https://localhost:8080/"
        },
        "id": "e2Sqh-uc91d5",
        "outputId": "d8db0abb-d902-4b4a-8ea9-83e10c380063"
      },
      "execution_count": 19,
      "outputs": [
        {
          "output_type": "stream",
          "name": "stdout",
          "text": [
            "Accuracy of SVM with Linear kernel: 0.94\n",
            "Accuracy of SVM with RBF kernel:    0.64\n",
            "Linear kernel performed better.\n"
          ]
        }
      ]
    },
    {
      "cell_type": "code",
      "source": [
        "# 23. Write a Python program to train to an SVM Regressor (SVR) on a housing dataset and evaluate it using Mean Squared Error (MSE).\n",
        "\n",
        "from sklearn.datasets import fetch_california_housing\n",
        "housing = fetch_california_housing() # Load the dataset\n",
        "x = housing.data\n",
        "y = housing.target\n",
        "\n",
        "from sklearn.model_selection import train_test_split\n",
        "# split the dataset into train and test sets\n",
        "x_train, x_test, y_train, y_test = train_test_split(x, y, test_size=0.20, random_state=1)\n",
        "\n",
        "from sklearn.svm import SVR\n",
        "from sklearn.preprocessing import StandardScaler\n",
        "scaler = StandardScaler() # Feature Scaling\n",
        "x_train = scaler.fit_transform(x_train)\n",
        "x_test = scaler.transform(x_test)\n",
        "model = SVR() # Create the model\n",
        "model.fit(x_train, y_train) # Train the model\n",
        "y_pred = model.predict(x_test) # Predict\n",
        "\n",
        "from sklearn.metrics import mean_squared_error\n",
        "mse = mean_squared_error(y_test, y_pred) # Evaluate using MSE\n",
        "print(f\"MSE of SVR on housing dataset: {mse:.2f}\")"
      ],
      "metadata": {
        "colab": {
          "base_uri": "https://localhost:8080/"
        },
        "id": "E5QTS9UR91gv",
        "outputId": "a38bd82f-81ec-4df9-d8e5-aa225cfd651b"
      },
      "execution_count": 20,
      "outputs": [
        {
          "output_type": "stream",
          "name": "stdout",
          "text": [
            "MSE of SVR on housing dataset: 0.35\n"
          ]
        }
      ]
    },
    {
      "cell_type": "code",
      "source": [
        "# 24. Write a Python program to train an SVM Classifier with a Polynomial Kernel and visualize the decision boundary.\n",
        "\n",
        "import numpy as np\n",
        "import matplotlib.pyplot as plt\n",
        "from sklearn.datasets import make_classification\n",
        "from sklearn.svm import SVC\n",
        "\n",
        "# 2D synthetic data\n",
        "x , y = make_classification(n_samples=100, n_features=2, n_redundant=0, n_informative=2, n_clusters_per_class=1, random_state=1)\n",
        "\n",
        "# Train SVM with Polynomial kernel\n",
        "model = SVC(kernel='poly', degree=3, C=1)\n",
        "model.fit(x, y)\n",
        "\n",
        "# Create meshgrid for plotting\n",
        "x_min, x_max = x[:, 0].min()- 1, x[:, 0].max()+ 1\n",
        "y_min, y_max = x[:, 1].min()- 1, x[:, 1].max()+ 1\n",
        "xx, yy = np.meshgrid(np.linspace(x_min, x_max, 500),\n",
        "                     np.linspace(y_min, y_max, 500))\n",
        "z = model.predict(np.c_[xx.ravel(), yy.ravel()])\n",
        "z = z.reshape(xx.shape)\n",
        "\n",
        "# Plot decision boundary\n",
        "plt.contourf(xx, yy, z, alpha=0.3, cmap=plt.cm.winter)\n",
        "plt.scatter(x[:, 0], x[:, 1], c=y, s=30, edgecolors='k', cmap=plt.cm.autumn)\n",
        "plt.title(\"SVM with Polynomial Kernel (degree=3)\")\n",
        "plt.xlabel(\"Feature 1\")\n",
        "plt.ylabel(\"Feature 2\")\n",
        "plt.grid(True)\n",
        "plt.show()"
      ],
      "metadata": {
        "colab": {
          "base_uri": "https://localhost:8080/",
          "height": 472
        },
        "id": "BwfIakap91jp",
        "outputId": "9b7279e4-123d-4fea-dd9b-a10930fe1e14"
      },
      "execution_count": 22,
      "outputs": [
        {
          "output_type": "display_data",
          "data": {
            "text/plain": [
              "<Figure size 640x480 with 1 Axes>"
            ],
            "image/png": "[encoded data removed]"
          },
          "metadata": {}
        }
      ]
    },
    {
      "cell_type": "code",
      "source": [
        "# 25. Write a Python program to train a Gaussian Naive Bayes classifier on the Breast Cancer dataset and evaluate accuracy.\n",
        "\n",
        "from sklearn.datasets import load_breast_cancer\n",
        "from sklearn.model_selection import train_test_split\n",
        "data = load_breast_cancer() # load data\n",
        "x , y = data.data, data.target\n",
        "\n",
        "# Split into train and test sets\n",
        "X_train, X_test, y_train, y_test = train_test_split(x, y, test_size=0.2, random_state=1)\n",
        "\n",
        "from sklearn.naive_bayes import GaussianNB\n",
        "from sklearn.metrics import accuracy_score\n",
        "\n",
        "model = GaussianNB() # Train Gaussian Naive Bayes classifier\n",
        "model.fit(X_train, y_train)\n",
        "y_pred = model.predict(X_test) # Predict on test data\n",
        "accuracy = accuracy_score(y_test, y_pred) # Evaluate accuracy\n",
        "print(f\"Accuracy of Gaussian Naive Bayes on Breast Cancer dataset: {accuracy:.2f}\")"
      ],
      "metadata": {
        "colab": {
          "base_uri": "https://localhost:8080/"
        },
        "id": "iQcpUnTV91mi",
        "outputId": "64d6f8cd-ee2b-426f-9abf-ef269d255ee0"
      },
      "execution_count": 23,
      "outputs": [
        {
          "output_type": "stream",
          "name": "stdout",
          "text": [
            "Accuracy of Gaussian Naive Bayes on Breast Cancer dataset: 0.95\n"
          ]
        }
      ]
    },
    {
      "cell_type": "code",
      "source": [
        "# 26. Write a Python program to train a Multinomial Naive Bayes classifier for text classification using the 20 Newsgroups dataset.\n",
        "\n",
        "from sklearn.datasets import fetch_20newsgroups\n",
        "from sklearn.feature_extraction.text import CountVectorizer\n",
        "from sklearn.naive_bayes import MultinomialNB\n",
        "from sklearn.model_selection import train_test_split\n",
        "from sklearn.metrics import accuracy_score\n",
        "\n",
        "# Load the 20 Newsgroups dataset\n",
        "categories = ['comp.graphics', 'sci.space', 'rec.sport.baseball', 'talk.politics.mideast']\n",
        "data = fetch_20newsgroups(subset='all', categories=categories, remove=('headers', 'footers', 'quotes'))\n",
        "# Split into train and test sets\n",
        "X_train, X_test, y_train, y_test = train_test_split(data.data, data.target, test_size=0.2, random_state=1)\n",
        "\n",
        "# Convert text to word count vectors\n",
        "vector = CountVectorizer()\n",
        "x_train_counts = vector.fit_transform(X_train)\n",
        "x_test_counts = vector.transform(X_test)\n",
        "\n",
        "# Train Multinomial Naive Bayes classifier\n",
        "model = MultinomialNB()\n",
        "model.fit(x_train_counts, y_train)\n",
        "\n",
        "# Predict and evaluate\n",
        "y_pred = model.predict(x_test_counts)\n",
        "score = accuracy_score(y_test, y_pred)\n",
        "print(f\"Accuracy: {accuracy:.2f}\")"
      ],
      "metadata": {
        "colab": {
          "base_uri": "https://localhost:8080/"
        },
        "id": "WfSatW6y91pc",
        "outputId": "2782bdb8-6c2a-4ff2-f286-f67e6b7c8f5d"
      },
      "execution_count": 24,
      "outputs": [
        {
          "output_type": "stream",
          "name": "stdout",
          "text": [
            "Accuracy: 0.95\n"
          ]
        }
      ]
    },
    {
      "cell_type": "code",
      "source": [
        "# 27. Write a Python program to train an SVM Classifier with different C values and compare the decision boundaries visually.\n",
        "\n",
        "import numpy as np\n",
        "import matplotlib.pyplot as plt\n",
        "from sklearn.datasets import make_classification\n",
        "from sklearn.svm import SVC\n",
        "\n",
        "# 2D synthetic data\n",
        "x , y = make_classification(n_samples=100, n_features=2, n_redundant=0, n_informative=2, n_clusters_per_class=1, random_state=1)\n",
        "c_values = [0.1, 1, 10] # Different C values to compare\n",
        "plt.figure(figsize=(10, 3)) # plot\n",
        "\n",
        "for i, C in enumerate(c_values):\n",
        "    model = SVC(kernel='linear', C=C)\n",
        "    model.fit(x, y)   # Train\n",
        "    # Meshgrid for decision boundary\n",
        "    x_min, x_max = x[:, 0].min()- 1, x[:, 0].max()+ 1\n",
        "    y_min, y_max = x[:, 1].min()- 1, x[:, 1].max()+ 1\n",
        "    xx, yy = np.meshgrid(np.linspace(x_min, x_max, 300),\n",
        "                     np.linspace(y_min, y_max, 300))\n",
        "    z = model.predict(np.c_[xx.ravel(), yy.ravel()]).reshape(xx.shape)\n",
        "\n",
        "    # Plot\n",
        "    plt.subplot(1, 3, i+1)\n",
        "    plt.contourf(xx, yy, z, alpha=0.3, cmap='autumn')\n",
        "    plt.scatter(x[:, 0], x[:, 1], c=y, cmap='Pastel2', edgecolors='k')\n",
        "    plt.title(f\"SVM with C = {C}\")\n",
        "    plt.xlabel(\"Feature 1\")\n",
        "    plt.ylabel(\"Feature 2\")\n",
        "plt.tight_layout()\n",
        "plt.show()"
      ],
      "metadata": {
        "colab": {
          "base_uri": "https://localhost:8080/",
          "height": 307
        },
        "id": "MGYk1-qv91sQ",
        "outputId": "859bc326-5447-46e3-b85d-2a8a98498f05"
      },
      "execution_count": 25,
      "outputs": [
        {
          "output_type": "display_data",
          "data": {
            "text/plain": [
              "<Figure size 1000x300 with 3 Axes>"
            ],
            "image/png": "[encoded data removed]"
          },
          "metadata": {}
        }
      ]
    },
    {
      "cell_type": "code",
      "source": [
        "# 28. Write a Python program to train a Bernoulli Naive Bayes classifier for binary classification on a dataset with binary features.\n",
        "\n",
        "from sklearn.naive_bayes import BernoulliNB\n",
        "from sklearn.model_selection import train_test_split\n",
        "from sklearn.metrics import accuracy_score\n",
        "from sklearn.datasets import make_classification\n",
        "import numpy as np\n",
        "\n",
        "# Binary classification dataset\n",
        "x , y = make_classification(n_samples=1000, n_features=10, n_redundant=0, n_informative=5, n_classes=2, random_state=1)\n",
        "x_binary = (x > 0).astype(int) # convert features to binary (0 or 1)\n",
        "# Split into train and test sets\n",
        "x_train, x_test, y_train, y_test = train_test_split(x_binary, y, test_size=0.2, random_state=1)\n",
        "\n",
        "# Train and Predict\n",
        "model = BernoulliNB()\n",
        "model.fit(x_train, y_train)\n",
        "y_pred = model.predict(x_test)\n",
        "score = accuracy_score(y_test, y_pred)\n",
        "print(f\"Accuracy score: {score:.2f}\")"
      ],
      "metadata": {
        "colab": {
          "base_uri": "https://localhost:8080/"
        },
        "id": "l24t-Nqa91vD",
        "outputId": "06f84bdb-2f3f-4ead-dd59-ca40a025d5de"
      },
      "execution_count": 26,
      "outputs": [
        {
          "output_type": "stream",
          "name": "stdout",
          "text": [
            "Accuracy score: 0.71\n"
          ]
        }
      ]
    },
    {
      "cell_type": "code",
      "source": [
        "# 29. Write a Python program to apply feature scaling before training an SVM model and compare results with unscaled data.\n",
        "\n",
        "from sklearn.datasets import load_breast_cancer\n",
        "from sklearn.model_selection import train_test_split\n",
        "from sklearn.svm import SVC\n",
        "from sklearn.preprocessing import StandardScaler\n",
        "from sklearn.metrics import accuracy_score\n",
        "\n",
        "x , y = load_breast_cancer(return_X_y=True) # Load and split train-test data\n",
        "x_train, x_test, y_train, y_test = train_test_split(x, y, test_size=0.20, random_state=1)\n",
        "\n",
        "# Without Scaling train model\n",
        "model1 = SVC()\n",
        "model1.fit(x_train, y_train)\n",
        "score1 = model1.score(x_test, y_test)\n",
        "\n",
        "# With scaling train model\n",
        "scaler = StandardScaler()\n",
        "x_train_scale = scaler.fit_transform(x_train)\n",
        "x_test_scale = scaler.transform(x_test)\n",
        "\n",
        "model2 = SVC()\n",
        "model2.fit(x_train_scale, y_train)\n",
        "score2 = model2.score(x_test_scale, y_test)\n",
        "print(f\"Accuracy without scaling: {score1:.2f}\")\n",
        "print(f\"Accuracy with scaling:   {score2:.2f}\")"
      ],
      "metadata": {
        "colab": {
          "base_uri": "https://localhost:8080/"
        },
        "id": "_c3ocr2e91xz",
        "outputId": "e807668e-46ce-409c-c239-99bb89057d65"
      },
      "execution_count": 27,
      "outputs": [
        {
          "output_type": "stream",
          "name": "stdout",
          "text": [
            "Accuracy without scaling: 0.90\n",
            "Accuracy with scaling:   0.97\n"
          ]
        }
      ]
    },
    {
      "cell_type": "code",
      "source": [
        "# 30. Write a Python program to train a Gaussian Naive Bayes model and compare the predictions before and after Laplace Smoothing.\n",
        "\n",
        "# GaussianNB on continuous data (Iris dataset)\n",
        "from sklearn.datasets import load_iris\n",
        "from sklearn.model_selection import train_test_split\n",
        "from sklearn.naive_bayes import GaussianNB\n",
        "from sklearn.metrics import accuracy_score\n",
        "\n",
        "# Load data\n",
        "X, y = load_iris(return_X_y=True)\n",
        "X_train, X_test, y_train, y_test = train_test_split(X, y, test_size=0.3, random_state=1)\n",
        "\n",
        "# Train GaussianNB (no Laplace smoothing)\n",
        "gnb = GaussianNB()\n",
        "gnb.fit(X_train, y_train)\n",
        "y_pred_gnb = gnb.predict(X_test)\n",
        "score_gnb = accuracy_score(y_test, y_pred_gnb)\n",
        "print(\"Gaussian Accuracy Score (no Laplace smoothing):\", round(score_gnb, 2))\n",
        "\n",
        "\n",
        "# MultinomialNB on text data (with and without Laplace smoothing)\n",
        "from sklearn.datasets import fetch_20newsgroups\n",
        "from sklearn.feature_extraction.text import CountVectorizer\n",
        "from sklearn.naive_bayes import MultinomialNB\n",
        "\n",
        "# Load two categories for binary text classification\n",
        "categories = ['sci.space', 'rec.sport.baseball']\n",
        "newsgroups = fetch_20newsgroups(subset='train', categories=categories, remove=('headers', 'footers', 'quotes'))\n",
        "X_text, y_text = newsgroups.data, newsgroups.target\n",
        "\n",
        "# Convert text to count vectors\n",
        "vectorizer = CountVectorizer()\n",
        "X_text_counts = vectorizer.fit_transform(X_text)\n",
        "X_train_text, X_test_text, y_train_text, y_test_text = train_test_split( X_text_counts, y_text,\n",
        "\n",
        "                                                                         test_size=0.2, random_state=1)\n",
        "\n",
        "# MultinomialNB without Laplace smoothing\n",
        "model_no_smooth = MultinomialNB(alpha=0.0)\n",
        "model_no_smooth.fit(X_train_text, y_train_text)\n",
        "y_pred_no_smooth = model_no_smooth.predict(X_test_text)\n",
        "score_no_smooth = accuracy_score(y_test_text, y_pred_no_smooth)\n",
        "\n",
        "# MultinomialNB with Laplace smoothing\n",
        "model_smooth = MultinomialNB(alpha=1.0)\n",
        "model_smooth.fit(X_train_text, y_train_text)\n",
        "y_pred_smooth = model_smooth.predict(X_test_text)\n",
        "score_smooth = accuracy_score(y_test_text, y_pred_smooth)\n",
        "\n",
        "print(\"Multinomial Accuracy Score without Laplace smoothing (alpha=0):\", round(score_no_smooth, 2))\n",
        "print(\"Multinomial Accuracy Score with Laplace smoothing (alpha=1):\", round(score_smooth, 2))"
      ],
      "metadata": {
        "colab": {
          "base_uri": "https://localhost:8080/"
        },
        "id": "_Ck_Lsag910g",
        "outputId": "8fdc3509-e3fd-4c8f-fd32-1c48730c88cb"
      },
      "execution_count": 28,
      "outputs": [
        {
          "output_type": "stream",
          "name": "stdout",
          "text": [
            "Gaussian Accuracy Score (no Laplace smoothing): 0.93\n",
            "Multinomial Accuracy Score without Laplace smoothing (alpha=0): 0.55\n",
            "Multinomial Accuracy Score with Laplace smoothing (alpha=1): 0.93\n"
          ]
        }
      ]
    },
    {
      "cell_type": "code",
      "source": [
        "# 31. Write a Python program to train an SVM Classifier and use GridSearchCV to tune the hyperparameters (C, gamma, kernel).\n",
        "\n",
        "from sklearn import datasets\n",
        "from sklearn.model_selection import train_test_split, GridSearchCV\n",
        "from sklearn.svm import SVC\n",
        "from sklearn.metrics import classification_report, accuracy_score\n",
        "\n",
        "# Load data and Split into train-test data\n",
        "iris = datasets.load_iris()\n",
        "x , y = iris.data, iris.target\n",
        "x_train, x_test, y_train, y_test = train_test_split(x, y, test_size=0.20, random_state=1)\n",
        "\n",
        "# Define parameter grid & intialize the SVM model\n",
        "params = {\"C\": [0.1, 1, 10, 100],\n",
        "          \"gamma\": ['scale','auto',0.001, 0.1,1],\n",
        "          'kernel': ['linear','rbf','poly','sigmoid']}\n",
        "svc = SVC()\n",
        "\n",
        "# GridSearchCV for best hyperparameters\n",
        "grid = GridSearchCV(estimator=svc, param_grid=params, cv=5, n_jobs=-1, verbose=2)\n",
        "grid.fit(x_train, y_train) # Fit the model\n",
        "print(\"Best Parameters:\", grid.best_params_)\n",
        "\n",
        "model = grid.best_estimator_\n",
        "y_pred = model.predict(x_test)\n",
        "print(\"\\nClassification Report:\\n\", classification_report(y_test, y_pred))\n",
        "print(\"Accuracy Score:\", accuracy_score(y_test, y_pred))"
      ],
      "metadata": {
        "id": "phfqATTF913H",
        "colab": {
          "base_uri": "https://localhost:8080/"
        },
        "outputId": "dee9e88d-4aa2-4390-bff5-a26edaea3a20"
      },
      "execution_count": 29,
      "outputs": [
        {
          "output_type": "stream",
          "name": "stdout",
          "text": [
            "Fitting 5 folds for each of 80 candidates, totalling 400 fits\n",
            "Best Parameters: {'C': 0.1, 'gamma': 'scale', 'kernel': 'poly'}\n",
            "\n",
            "Classification Report:\n",
            "               precision    recall  f1-score   support\n",
            "\n",
            "           0       1.00      1.00      1.00        11\n",
            "           1       1.00      1.00      1.00        13\n",
            "           2       1.00      1.00      1.00         6\n",
            "\n",
            "    accuracy                           1.00        30\n",
            "   macro avg       1.00      1.00      1.00        30\n",
            "weighted avg       1.00      1.00      1.00        30\n",
            "\n",
            "Accuracy Score: 1.0\n"
          ]
        }
      ]
    },
    {
      "cell_type": "code",
      "source": [
        "# 32. Write a Python program to train an SVM Classifier on an imbalanced dataset and apply class weighting and check it improve accuracy.\n",
        "\n",
        "from sklearn.datasets import make_classification\n",
        "from sklearn.model_selection import train_test_split\n",
        "from sklearn.svm import SVC\n",
        "from sklearn.metrics import classification_report, accuracy_score\n",
        "import numpy as np\n",
        "\n",
        "# Create an imbalanced dataset\n",
        "x , y = make_classification(n_samples=1000, n_features=10, n_informative=3, n_redundant=0, n_classes=2, weights=[0.9,0.1],random_state=1)\n",
        "\n",
        "# Split into train-test set & train SVM without class weights\n",
        "x_train, x_test, y_train, y_test = train_test_split(x, y, test_size=0.3, random_state=1)\n",
        "model_no_weight = SVC()\n",
        "model_no_weight.fit(x_train, y_train)\n",
        "y_pred_no_weight = model_no_weight.predict(x_test)\n",
        "\n",
        "# Train SVM with class weights\n",
        "model_with_weight = SVC(class_weight='balanced')\n",
        "model_with_weight.fit(x_train, y_train)\n",
        "y_pred_with_weight = model_with_weight.predict(x_test)\n",
        "\n",
        "# Evaluate models\n",
        "print(\"---Without Class Weight---\")\n",
        "print(\"Accuracy Score:\", accuracy_score(y_test, y_pred_no_weight))\n",
        "print(classification_report(y_test, y_pred_no_weight))\n",
        "\n",
        "print(\"---With Class Weight---\")\n",
        "print(\"Accuracy Score:\", accuracy_score(y_test, y_pred_with_weight))\n",
        "print(classification_report(y_test, y_pred_with_weight))"
      ],
      "metadata": {
        "id": "GqX6f-19915v",
        "colab": {
          "base_uri": "https://localhost:8080/"
        },
        "outputId": "ebde8d7c-25db-4909-e6d3-25446ca7e019"
      },
      "execution_count": 30,
      "outputs": [
        {
          "output_type": "stream",
          "name": "stdout",
          "text": [
            "---Without Class Weight---\n",
            "Accuracy Score: 0.9333333333333333\n",
            "              precision    recall  f1-score   support\n",
            "\n",
            "           0       0.95      0.97      0.96       269\n",
            "           1       0.72      0.58      0.64        31\n",
            "\n",
            "    accuracy                           0.93       300\n",
            "   macro avg       0.84      0.78      0.80       300\n",
            "weighted avg       0.93      0.93      0.93       300\n",
            "\n",
            "---With Class Weight---\n",
            "Accuracy Score: 0.9333333333333333\n",
            "              precision    recall  f1-score   support\n",
            "\n",
            "           0       0.99      0.93      0.96       269\n",
            "           1       0.62      0.94      0.74        31\n",
            "\n",
            "    accuracy                           0.93       300\n",
            "   macro avg       0.80      0.93      0.85       300\n",
            "weighted avg       0.95      0.93      0.94       300\n",
            "\n"
          ]
        }
      ]
    },
    {
      "cell_type": "code",
      "source": [
        "# 33. Write a Python program to implement a Naive Bayes classifier for spam detection using email data.\n",
        "\n",
        "from sklearn.feature_extraction.text import CountVectorizer\n",
        "from sklearn.model_selection import train_test_split\n",
        "from sklearn.naive_bayes import MultinomialNB\n",
        "from sklearn.metrics import accuracy_score, classification_report\n",
        "\n",
        "# Sample email dataset\n",
        "emails = [\"Win money now!\",                  # spam\n",
        "          \"Lowest prices guaranteed\",        # spam\n",
        "          \"Call now for free prize\",         # spam\n",
        "          \"Meet me at 5pm\",                  # ham\n",
        "          \"Project deadline is tomorrow\",    # ham\n",
        "          \"Let's have lunch today\",          # ham\n",
        "          \"Free entry in a contest\",         # spam\n",
        "          \"Are we still meeting tomorrow\",   # ham\n",
        "          \"Congratulations, you won!\",       # spam\n",
        "          \"Please find the report attached\"] # ham\n",
        "\n",
        "labels = [1,1,1,0,0,0,1,0,1,0] # 1=spam, 0=ham\n",
        "\n",
        "# Convert text to feature vectors & Split into train-test set\n",
        "vector = CountVectorizer()\n",
        "x = vector.fit_transform(emails)\n",
        "x_train, x_test, y_train, y_test = train_test_split(x, labels, test_size=0.3, random_state=1)\n",
        "\n",
        "# Train and Predict\n",
        "model = MultinomialNB()\n",
        "model.fit(x_train, y_train)\n",
        "y_pred = model.predict(x_test)\n",
        "\n",
        "# Evaluate model\n",
        "print(\"Accuracy Score:\", accuracy_score(y_test, y_pred))\n",
        "print(\"\\nClassification Report:\\n\", classification_report(y_test, y_pred, target_names=[\"Ham\", \"Spam\"]))"
      ],
      "metadata": {
        "id": "4xX0Bie3918K",
        "colab": {
          "base_uri": "https://localhost:8080/"
        },
        "outputId": "b813b6b8-8d34-4099-c330-7c8ee4f62dbf"
      },
      "execution_count": 31,
      "outputs": [
        {
          "output_type": "stream",
          "name": "stdout",
          "text": [
            "Accuracy Score: 0.6666666666666666\n",
            "\n",
            "Classification Report:\n",
            "               precision    recall  f1-score   support\n",
            "\n",
            "         Ham       0.00      0.00      0.00         1\n",
            "        Spam       0.67      1.00      0.80         2\n",
            "\n",
            "    accuracy                           0.67         3\n",
            "   macro avg       0.33      0.50      0.40         3\n",
            "weighted avg       0.44      0.67      0.53         3\n",
            "\n"
          ]
        }
      ]
    },
    {
      "cell_type": "code",
      "source": [
        "# 34. Write a Python program to train an SVM Classifier and a Naive Bayes Classifier on the same dataset and compare their accuracy.\n",
        "\n",
        "from sklearn.datasets import load_iris\n",
        "from sklearn.model_selection import train_test_split\n",
        "from sklearn.svm import SVC\n",
        "from sklearn.naive_bayes import GaussianNB\n",
        "from sklearn.metrics import accuracy_score\n",
        "\n",
        "# Load data\n",
        "x , y = load_iris(return_X_y=True)\n",
        "x_train, x_test, y_train, y_test = train_test_split(x, y, test_size=0.30, random_state=1)\n",
        "\n",
        "# Train and Predict\n",
        "svm = SVC().fit(x_train, y_train)\n",
        "nb = GaussianNB().fit(x_train, y_train)\n",
        "svm_pred = svm.predict(x_test)\n",
        "nb_pred = nb.predict(x_test)\n",
        "\n",
        "# Accuracy\n",
        "score_svm = accuracy_score(y_test, svm_pred)\n",
        "score_nb = accuracy_score(y_test, nb_pred)\n",
        "\n",
        "print(\"SVM Accuracy:\", score_svm)\n",
        "print(\"Naive Bayes Accuracy:\", score_nb)\n",
        "\n",
        "if score_svm > score_nb:\n",
        "      print(\"SVM performs better on this dataset.\")\n",
        "elif score_nb > score_svm:\n",
        "      print(\"Naive Bayes performs better on this dataset.\")\n",
        "else:\n",
        "      print(\"Both classifiers perform equally well.\")"
      ],
      "metadata": {
        "colab": {
          "base_uri": "https://localhost:8080/"
        },
        "id": "YZpM46Jjy1Wk",
        "outputId": "c4e6a6d2-b2c8-4caa-9e99-1b6597c84731"
      },
      "execution_count": 32,
      "outputs": [
        {
          "output_type": "stream",
          "name": "stdout",
          "text": [
            "SVM Accuracy: 0.9777777777777777\n",
            "Naive Bayes Accuracy: 0.9333333333333333\n",
            "SVM performs better on this dataset.\n"
          ]
        }
      ]
    },
    {
      "cell_type": "code",
      "source": [
        "# 35. Write a Python program to perform feature selection before training a Naive Bayes classifier and compare results.\n",
        "\n",
        "from sklearn.datasets import load_iris\n",
        "from sklearn.model_selection import train_test_split\n",
        "from sklearn.naive_bayes import GaussianNB\n",
        "from sklearn.feature_selection import SelectKBest, chi2\n",
        "from sklearn.metrics import accuracy_score\n",
        "\n",
        "iris = load_iris()  # load data\n",
        "x , y = iris.data , iris.target\n",
        "# Split into train and test set\n",
        "x_train, x_test, y_train, y_test = train_test_split(x, y, test_size=0.30, random_state=1)\n",
        "\n",
        "# Model without feature selection\n",
        "model1 = GaussianNB()\n",
        "model1.fit(x_train, y_train)\n",
        "pred1 = model1.predict(x_test)\n",
        "score1 = accuracy_score(y_test, pred1)\n",
        "# Model with feature selection\n",
        "selector = SelectKBest(chi2, k=2)\n",
        "x_train_new = selector.fit_transform(x_train, y_train)\n",
        "x_test_new = selector.transform(x_test)\n",
        "model2 = GaussianNB()\n",
        "model2.fit(x_train_new, y_train)\n",
        "pred2 = model2.predict(x_test_new)\n",
        "score2 = accuracy_score(y_test, pred2)\n",
        "\n",
        "# Results\n",
        "print(\"Accuracy with all features: \", round(score1 , 2))\n",
        "print(\"Accuracy with selected features: \", round(score2, 2))"
      ],
      "metadata": {
        "id": "a4D-xW3D92CP",
        "colab": {
          "base_uri": "https://localhost:8080/"
        },
        "outputId": "eab8c174-4e72-4ea1-e938-961ba8959a84"
      },
      "execution_count": 33,
      "outputs": [
        {
          "output_type": "stream",
          "name": "stdout",
          "text": [
            "Accuracy with all features:  0.93\n",
            "Accuracy with selected features:  0.96\n"
          ]
        }
      ]
    },
    {
      "cell_type": "code",
      "source": [
        "# 36. Write a Python program to train an SVM Classifier using One-vs-Rest (OvR) and One-vs-One (OvO) strategies on the Wine dataset and compare their accuracy.\n",
        "\n",
        "from sklearn.datasets import load_wine\n",
        "from sklearn.model_selection import train_test_split\n",
        "from sklearn.svm import SVC\n",
        "from sklearn.multiclass import OneVsRestClassifier, OneVsOneClassifier\n",
        "from sklearn.metrics import accuracy_score\n",
        "\n",
        "wine = load_wine() # Load data\n",
        "x , y = wine.data, wine.target\n",
        "# Split into train test set\n",
        "x_train, x_test, y_train, y_test = train_test_split(x, y, test_size=0.3, random_state=1)\n",
        "\n",
        "# One-vs-Rest SVM\n",
        "ovr_model = OneVsRestClassifier(SVC(kernel='linear'))\n",
        "ovr_model.fit(x_train, y_train)\n",
        "ovr_pred = ovr_model.predict(x_test)\n",
        "ovr_score = accuracy_score(y_test, ovr_pred)\n",
        "\n",
        "# One-vs-One SVM\n",
        "ovo_model = OneVsOneClassifier(SVC(kernel='linear'))\n",
        "ovo_model.fit(x_train, y_train)\n",
        "ovo_pred = ovo_model.predict(x_test)\n",
        "ovo_score = accuracy_score(y_test, ovo_pred)\n",
        "\n",
        "# Results\n",
        "print(\"Accuracy using One-vs-Rest (OVR):\", round(ovr_score,2))\n",
        "print(\"Accuracy using One-vs-One (OVO):\", round(ovo_score,2))"
      ],
      "metadata": {
        "id": "qGRqthnFHAlM",
        "colab": {
          "base_uri": "https://localhost:8080/"
        },
        "outputId": "67b4ed03-e7be-4136-9479-0f9b239de568"
      },
      "execution_count": 34,
      "outputs": [
        {
          "output_type": "stream",
          "name": "stdout",
          "text": [
            "Accuracy using One-vs-Rest (OVR): 0.96\n",
            "Accuracy using One-vs-One (OVO): 0.96\n"
          ]
        }
      ]
    },
    {
      "cell_type": "code",
      "source": [
        "# 37. Write a Python program to train an SVM Classifier using Linear, Polynomial, and RBF kernels on the Breast Cancer dataset and compare their accuracy.\n",
        "\n",
        "from sklearn.datasets import load_breast_cancer\n",
        "from sklearn.model_selection import train_test_split\n",
        "from sklearn.svm import SVC\n",
        "from sklearn.metrics import accuracy_score\n",
        "\n",
        "data = load_breast_cancer() # load data\n",
        "x , y = data.data, data.target\n",
        "# Split into train test set\n",
        "x_train, x_test, y_train, y_test = train_test_split(x, y, test_size=0.30, random_state=1)\n",
        "\n",
        "# Train SVM with Linear kernel\n",
        "lin = SVC(kernel='linear')\n",
        "lin.fit(x_train, y_train)\n",
        "pred_lin = lin.predict(x_test)\n",
        "acc_lin = accuracy_score(y_test, pred_lin)\n",
        "\n",
        "# Train SVM with Polynomial kernel\n",
        "poly = SVC(kernel='poly', degree=3) # degree=3 by default\n",
        "poly.fit(x_train, y_train)\n",
        "pred_poly = poly.predict(x_test)\n",
        "acc_poly = accuracy_score(y_test, pred_poly)\n",
        "\n",
        "# Train SVM with RBF kernel\n",
        "rbf = SVC(kernel='rbf')\n",
        "rbf.fit(x_train, y_train)\n",
        "pred_rbf = rbf.predict(x_test)\n",
        "acc_rbf = accuracy_score(y_test, pred_rbf)\n",
        "\n",
        "# Results\n",
        "print(\"Accuracy with Linear Kernel:\", round(acc_lin, 4))\n",
        "print(\"Accuracy with Polynomial Kernel:\", round(acc_poly, 4))\n",
        "print(\"Accuracy with RBF Kernel:\", round(acc_rbf, 4))"
      ],
      "metadata": {
        "id": "fM-_vZdYHAok",
        "colab": {
          "base_uri": "https://localhost:8080/"
        },
        "outputId": "5b64a767-15b4-4072-bfcc-493abc436085"
      },
      "execution_count": 35,
      "outputs": [
        {
          "output_type": "stream",
          "name": "stdout",
          "text": [
            "Accuracy with Linear Kernel: 0.9532\n",
            "Accuracy with Polynomial Kernel: 0.9123\n",
            "Accuracy with RBF Kernel: 0.9181\n"
          ]
        }
      ]
    },
    {
      "cell_type": "code",
      "source": [
        "# 38. Write a Python program to train an SVM Classifier using Stratified K-Fold Cross-Validation and compute the average accuracy.\n",
        "\n",
        "from sklearn.datasets import load_breast_cancer\n",
        "from sklearn.svm import SVC\n",
        "from sklearn.model_selection import StratifiedKFold\n",
        "from sklearn.metrics import accuracy_score\n",
        "import numpy as np\n",
        "\n",
        "data = load_breast_cancer() # Load data\n",
        "x , y = data.data, data.target\n",
        "\n",
        "# Create Stratified K-Folds\n",
        "skf = StratifiedKFold(n_splits=5, shuffle=True, random_state=1)\n",
        "scores = []\n",
        "\n",
        "# Perform Stratified K-Fold Cross-Validation\n",
        "for fold, (train_index, test_index) in enumerate(skf.split(x, y),1):\n",
        "    x_train, x_test = x[train_index], x[test_index]\n",
        "    y_train, y_test = y[train_index], y[test_index]\n",
        "\n",
        "    # Train SVM\n",
        "    model = SVC(kernel='linear')\n",
        "    model.fit(x_train, y_train)\n",
        "\n",
        "    # Predict and Evaluate\n",
        "    y_pred = model.predict(x_test)\n",
        "    score = accuracy_score(y_test, y_pred)\n",
        "    scores.append(score)\n",
        "    print(f\"Fold {fold} Accuracy: {round(score, 4)}\")\n",
        "\n",
        "# Compute and average accuracy score\n",
        "average_score = np.mean(scores)\n",
        "print(\"\\nAverage Accuracy:\", round(np.mean(scores), 4))"
      ],
      "metadata": {
        "id": "YttnnEqGHAx-",
        "colab": {
          "base_uri": "https://localhost:8080/"
        },
        "outputId": "0eafcb68-c92c-4bed-f510-e4a6e9aabac5"
      },
      "execution_count": 36,
      "outputs": [
        {
          "output_type": "stream",
          "name": "stdout",
          "text": [
            "Fold 1 Accuracy: 0.9474\n",
            "Fold 2 Accuracy: 0.9386\n",
            "Fold 3 Accuracy: 0.9561\n",
            "Fold 4 Accuracy: 0.9561\n",
            "Fold 5 Accuracy: 0.9735\n",
            "\n",
            "Average Accuracy: 0.9543\n"
          ]
        }
      ]
    },
    {
      "cell_type": "code",
      "source": [
        "# 39. Write a Python program to train a Naive Bayes classifier using different prior probabilities and compare performance.\n",
        "\n",
        "import numpy as np\n",
        "from sklearn.datasets import load_iris\n",
        "from sklearn.model_selection import train_test_split\n",
        "from sklearn.naive_bayes import GaussianNB\n",
        "from sklearn.metrics import accuracy_score, confusion_matrix, classification_report\n",
        "\n",
        "iris = load_iris() # Load data\n",
        "x , y = iris.data, iris.target\n",
        "class_names = iris.target_names\n",
        "\n",
        "# Split into train test set\n",
        "x_train, x_test, y_train, y_test = train_test_split(x, y, test_size=0.30, random_state=1)\n",
        "\n",
        "# Default prior (None)\n",
        "gnb_default = GaussianNB()\n",
        "gnb_default.fit(x_train, y_train)\n",
        "y_pred = gnb_default.predict(x_test)\n",
        "\n",
        "# Custom prior (Equal probability for each class)\n",
        "n_classes = len(np.unique(y))\n",
        "equal_priors = [1.0 / n_classes] * n_classes\n",
        "gnb_equal = GaussianNB(priors=equal_priors)\n",
        "gnb_equal.fit(x_train, y_train)\n",
        "y_pred_equal = gnb_equal.predict(x_test)\n",
        "\n",
        "# Custom prior (Biased towards class 0)\n",
        "biased_priors = [0.7, 0.2, 0.1]\n",
        "gnb_biased = GaussianNB(priors=biased_priors)\n",
        "gnb_biased.fit(x_train, y_train)\n",
        "y_pred_biased = gnb_biased.predict(x_test)\n",
        "\n",
        "# Evaluate all models\n",
        "def evaluate_model(name, y_true, y_pred):\n",
        "    print(f\"\\n  {name}  \")\n",
        "    print(\"Accuracy:\", accuracy_score(y_true, y_pred))\n",
        "    print(\"Confusion Matrix:\\n\", confusion_matrix(y_true, y_pred))\n",
        "    print(\"Classification Report:\\n\", classification_report(y_true, y_pred, target_names=class_names))\n",
        "evaluate_model(\"Default Prior\", y_test, y_pred)\n",
        "evaluate_model(\"Equal Prior\", y_test, y_pred_equal)\n",
        "evaluate_model(\"Biased Prior [0.7, 0.2, 0.1]\", y_test, y_pred_biased)"
      ],
      "metadata": {
        "id": "JDCtQ_aJHA12",
        "colab": {
          "base_uri": "https://localhost:8080/"
        },
        "outputId": "0ebfd814-e589-47ec-b397-9936c886e31f"
      },
      "execution_count": 37,
      "outputs": [
        {
          "output_type": "stream",
          "name": "stdout",
          "text": [
            "\n",
            "  Default Prior  \n",
            "Accuracy: 0.9333333333333333\n",
            "Confusion Matrix:\n",
            " [[14  0  0]\n",
            " [ 0 16  2]\n",
            " [ 0  1 12]]\n",
            "Classification Report:\n",
            "               precision    recall  f1-score   support\n",
            "\n",
            "      setosa       1.00      1.00      1.00        14\n",
            "  versicolor       0.94      0.89      0.91        18\n",
            "   virginica       0.86      0.92      0.89        13\n",
            "\n",
            "    accuracy                           0.93        45\n",
            "   macro avg       0.93      0.94      0.93        45\n",
            "weighted avg       0.94      0.93      0.93        45\n",
            "\n",
            "\n",
            "  Equal Prior  \n",
            "Accuracy: 0.9555555555555556\n",
            "Confusion Matrix:\n",
            " [[14  0  0]\n",
            " [ 0 17  1]\n",
            " [ 0  1 12]]\n",
            "Classification Report:\n",
            "               precision    recall  f1-score   support\n",
            "\n",
            "      setosa       1.00      1.00      1.00        14\n",
            "  versicolor       0.94      0.94      0.94        18\n",
            "   virginica       0.92      0.92      0.92        13\n",
            "\n",
            "    accuracy                           0.96        45\n",
            "   macro avg       0.96      0.96      0.96        45\n",
            "weighted avg       0.96      0.96      0.96        45\n",
            "\n",
            "\n",
            "  Biased Prior [0.7, 0.2, 0.1]  \n",
            "Accuracy: 0.9555555555555556\n",
            "Confusion Matrix:\n",
            " [[14  0  0]\n",
            " [ 0 17  1]\n",
            " [ 0  1 12]]\n",
            "Classification Report:\n",
            "               precision    recall  f1-score   support\n",
            "\n",
            "      setosa       1.00      1.00      1.00        14\n",
            "  versicolor       0.94      0.94      0.94        18\n",
            "   virginica       0.92      0.92      0.92        13\n",
            "\n",
            "    accuracy                           0.96        45\n",
            "   macro avg       0.96      0.96      0.96        45\n",
            "weighted avg       0.96      0.96      0.96        45\n",
            "\n"
          ]
        }
      ]
    },
    {
      "cell_type": "code",
      "source": [
        "# 40. Write a Python program to perform Recursive Feature Elimination (RFE) before training an SVM Classifier and compare accuracy.\n",
        "\n",
        "from sklearn.datasets import load_breast_cancer\n",
        "from sklearn.model_selection import train_test_split\n",
        "from sklearn.preprocessing import StandardScaler\n",
        "from sklearn.svm import SVC\n",
        "from sklearn.feature_selection import RFE\n",
        "from sklearn.metrics import accuracy_score\n",
        "\n",
        "# Load and split into train test set\n",
        "x , y = load_breast_cancer(return_X_y=True)\n",
        "x_train, x_test, y_train, y_test = train_test_split(x, y, test_size=0.3, random_state=1)\n",
        "\n",
        "# Scale features and Train without RFE\n",
        "scaler = StandardScaler()\n",
        "x_train_scaled = scaler.fit_transform(x_train)\n",
        "x_test_scaled = scaler.transform(x_test)\n",
        "svm = SVC(kernel='linear', random_state=1)\n",
        "svm.fit(x_train_scaled, y_train)\n",
        "y_pred_no_rfe = svm.predict(x_test_scaled)\n",
        "score_no_rfe = accuracy_score(y_test, y_pred_no_rfe)\n",
        "\n",
        "# Perform Recursive Feature Elimination with SVM\n",
        "rfe = RFE(estimator=SVC(kernel='linear'), n_features_to_select=10)\n",
        "x_train_rfe = rfe.fit_transform(x_train_scaled, y_train)\n",
        "x_test_rfe = rfe.transform(x_test_scaled)\n",
        "\n",
        "# Train SVM on selected features\n",
        "svm_rfe = SVC(kernel='linear', random_state=1)\n",
        "svm_rfe.fit(x_train_rfe, y_train)\n",
        "y_pred_rfe = svm_rfe.predict(x_test_rfe)\n",
        "score_rfe = accuracy_score(y_test, y_pred_rfe)\n",
        "print(f\"Accuracy Score without RFE: {score_no_rfe:.4f}\")\n",
        "print(f\"Accuracy Score with RFE: {score_rfe:.4f}\")"
      ],
      "metadata": {
        "id": "VKZETNH6HA5c",
        "colab": {
          "base_uri": "https://localhost:8080/"
        },
        "outputId": "e26c9a11-86ee-48a9-efdc-da0699b8685d"
      },
      "execution_count": 38,
      "outputs": [
        {
          "output_type": "stream",
          "name": "stdout",
          "text": [
            "Accuracy Score without RFE: 0.9474\n",
            "Accuracy Score with RFE: 0.9415\n"
          ]
        }
      ]
    },
    {
      "cell_type": "code",
      "source": [
        "# 41. Write a Python program to train an SVM Classifer and evaluate its performance using Precision, Recall, and F1-Score instead of accuracy.\n",
        "\n",
        "from sklearn.datasets import load_breast_cancer\n",
        "from sklearn.model_selection import train_test_split\n",
        "from sklearn.preprocessing import StandardScaler\n",
        "from sklearn.svm import SVC\n",
        "from sklearn.metrics import precision_score, recall_score, f1_score\n",
        "\n",
        "# Load and Split into train test set\n",
        "x, y = load_breast_cancer(return_X_y=True)\n",
        "x_train, x_test, y_train, y_test = train_test_split(x, y, test_size=0.3, random_state=0)\n",
        "\n",
        "# Scale feature, train and predict\n",
        "scaler = StandardScaler()\n",
        "x_train = scaler.fit_transform(x_train)\n",
        "x_test = scaler.transform(x_test)\n",
        "model = SVC(kernel='linear')\n",
        "model.fit(x_train, y_train)\n",
        "y_pred = model.predict(x_test)\n",
        "\n",
        "# Evaluate using precision, recall, and F1-score\n",
        "precision = precision_score(y_test, y_pred)\n",
        "recall = recall_score(y_test, y_pred)\n",
        "f1 = f1_score(y_test, y_pred)\n",
        "print(f\"Precision: {precision:.2f}\")\n",
        "print(f\"Recall:    {recall:.2f}\")\n",
        "print(f\"F1-Score:  {f1:.2f}\")"
      ],
      "metadata": {
        "id": "AZ4g4jR5IrMQ",
        "colab": {
          "base_uri": "https://localhost:8080/"
        },
        "outputId": "62b76429-3672-4f80-e936-904e46d8cd14"
      },
      "execution_count": 39,
      "outputs": [
        {
          "output_type": "stream",
          "name": "stdout",
          "text": [
            "Precision: 0.98\n",
            "Recall:    0.95\n",
            "F1-Score:  0.97\n"
          ]
        }
      ]
    },
    {
      "cell_type": "code",
      "source": [
        "# 42. Write a Python program to train a Naive Bayes Classifier and evaluate its performance using Log Loss (Cross-Entropy Loss).\n",
        "\n",
        "from sklearn.datasets import load_breast_cancer\n",
        "from sklearn.model_selection import train_test_split\n",
        "from sklearn.naive_bayes import GaussianNB\n",
        "from sklearn.metrics import log_loss\n",
        "\n",
        "# Load and split into train test set\n",
        "x , y = load_breast_cancer(return_X_y=True)\n",
        "x_train, x_test, y_train, y_test = train_test_split(x, y, test_size=0.3, random_state=0)\n",
        "\n",
        "# Train and Predict\n",
        "model = GaussianNB()\n",
        "model.fit(x_train, y_train)\n",
        "y_pred = model.predict(x_test)\n",
        "\n",
        "# Evaluate using Log Loss (Cross-Entropy Loss)\n",
        "loss = log_loss(y_test, y_pred)\n",
        "print(f\"Log Loss: {loss:.4f}\")"
      ],
      "metadata": {
        "id": "rfWt5CrIIrPP",
        "colab": {
          "base_uri": "https://localhost:8080/"
        },
        "outputId": "4e06f79e-6090-4258-eb89-55a70c3012af"
      },
      "execution_count": 40,
      "outputs": [
        {
          "output_type": "stream",
          "name": "stdout",
          "text": [
            "Log Loss: 2.7402\n"
          ]
        }
      ]
    },
    {
      "cell_type": "code",
      "source": [
        "# 43. Write a Python program to train an SVM Classifier and visualize the Confusion Matrix using seaborn.\n",
        "\n",
        "import seaborn as sns\n",
        "import matplotlib.pyplot as plt\n",
        "from sklearn.datasets import load_breast_cancer\n",
        "from sklearn.model_selection import train_test_split\n",
        "from sklearn.preprocessing import StandardScaler\n",
        "from sklearn.svm import SVC\n",
        "from sklearn.metrics import confusion_matrix, ConfusionMatrixDisplay\n",
        "\n",
        "x , y = load_breast_cancer(return_X_y=True) # Load and split into train test set\n",
        "x_train, x_test, y_train, y_test = train_test_split(x, y, test_size=0.3, random_state=0)\n",
        "\n",
        "# Scale Features and Train SVM model\n",
        "scaler = StandardScaler()\n",
        "x_train = scaler.fit_transform(x_train)\n",
        "x_test = scaler.transform(x_test)\n",
        "model = SVC(kernel='linear')\n",
        "model.fit(x_train, y_train)\n",
        "\n",
        "# Predict and Confusion matrix\n",
        "y_pred = model.predict(x_test)\n",
        "cm = confusion_matrix(y_test, y_pred)\n",
        "\n",
        "# Plot using seaborn\n",
        "plt.figure(figsize=(6, 4))\n",
        "sns.heatmap(cm, annot=True, fmt='d', cmap='Blues',\n",
        "            xticklabels=['Benign', 'Malignant'],\n",
        "            yticklabels=['Benign', 'Malignant'])\n",
        "plt.xlabel('Predict')\n",
        "plt.ylabel('Actual')\n",
        "plt.title('Confusion Matrix - SVM Classifier')\n",
        "plt.tight_layout()\n",
        "plt.show()"
      ],
      "metadata": {
        "id": "0prbtW4nIrSK",
        "colab": {
          "base_uri": "https://localhost:8080/",
          "height": 407
        },
        "outputId": "4d37694f-95a7-4267-eab6-ead1269287b3"
      },
      "execution_count": 41,
      "outputs": [
        {
          "output_type": "display_data",
          "data": {
            "text/plain": [
              "<Figure size 600x400 with 2 Axes>"
            ],
            "image/png": "[encoded data removed]"
          },
          "metadata": {}
        }
      ]
    },
    {
      "cell_type": "code",
      "source": [
        "# 44. Write a Python program to train an SVM Regressor (SVR) and evaluate its performance using Mean Absolute Error (MAE) instead of MSE.\n",
        "\n",
        "from sklearn.datasets import load_diabetes\n",
        "from sklearn.model_selection import train_test_split\n",
        "from sklearn.svm import SVR\n",
        "from sklearn.metrics import mean_absolute_error\n",
        "from sklearn.preprocessing import StandardScaler\n",
        "\n",
        "# Load and split into train test set\n",
        "X, y = load_diabetes(return_X_y=True)\n",
        "x_train, x_test, y_train, y_test = train_test_split(X, y, test_size=0.3, random_state=0)\n",
        "\n",
        "# Scale Feature and Train SVR model\n",
        "scaler = StandardScaler()\n",
        "x_train = scaler.fit_transform(x_train)\n",
        "x_test = scaler.transform(x_test)\n",
        "model = SVR(kernel='linear')\n",
        "model.fit(x_train, y_train)\n",
        "\n",
        "# Predict and Evaluate with MAE\n",
        "y_pred = model.predict(x_test)\n",
        "mae = mean_absolute_error(y_test, y_pred)\n",
        "print(f\"Mean Absolute Error (MAE): {mae:.2f}\")"
      ],
      "metadata": {
        "id": "RqP_uJBZIrVH",
        "colab": {
          "base_uri": "https://localhost:8080/"
        },
        "outputId": "4cbd71ed-db66-49b8-b52e-ed68b3aa5d31"
      },
      "execution_count": 42,
      "outputs": [
        {
          "output_type": "stream",
          "name": "stdout",
          "text": [
            "Mean Absolute Error (MAE): 44.36\n"
          ]
        }
      ]
    },
    {
      "cell_type": "code",
      "source": [
        "# 45. Write a Python program to train a Naive Bayes classifier and evaluate its performance using the ROC-AUC score.\n",
        "\n",
        "from sklearn.datasets import load_breast_cancer\n",
        "from sklearn.model_selection import train_test_split\n",
        "from sklearn.naive_bayes import GaussianNB\n",
        "from sklearn.metrics import roc_auc_score, roc_curve\n",
        "import matplotlib.pyplot as plt\n",
        "\n",
        "x , y = load_breast_cancer(return_X_y=True) # Load and split train-test data\n",
        "x_train, x_test, y_train, y_test = train_test_split(x, y, test_size=0.3, random_state=1)\n",
        "\n",
        "# Train and Predict\n",
        "model = GaussianNB()\n",
        "model.fit(x_train, y_train)\n",
        "y_prob = model.predict_proba(x_test)[:, 1]  # Probability for positive class\n",
        "\n",
        "# Compute ROC-AUC score\n",
        "roc_auc = roc_auc_score(y_test, y_prob)\n",
        "print(f\"ROC-AUC Score: {roc_auc:.2f}\")\n",
        "\n",
        "# Plot ROC curve\n",
        "fpr, tpr, _ = roc_curve(y_test, y_prob)\n",
        "plt.plot(fpr, tpr, label=f'ROC Curve (AUC = {roc_auc:.2f})')\n",
        "plt.plot([0, 1], [0, 1], 'k--')\n",
        "plt.xlabel('False Positive Rate')\n",
        "plt.ylabel('True Positive Rate')\n",
        "plt.title('ROC Curve - Naive Bayes')\n",
        "plt.legend()\n",
        "plt.grid(True)\n",
        "plt.show()"
      ],
      "metadata": {
        "id": "RD5xre-HIrX5",
        "colab": {
          "base_uri": "https://localhost:8080/",
          "height": 489
        },
        "outputId": "8b94dfbd-a6ac-4b14-b113-e6781a169ade"
      },
      "execution_count": 43,
      "outputs": [
        {
          "output_type": "stream",
          "name": "stdout",
          "text": [
            "ROC-AUC Score: 0.98\n"
          ]
        },
        {
          "output_type": "display_data",
          "data": {
            "text/plain": [
              "<Figure size 640x480 with 1 Axes>"
            ],
            "image/png": "[encoded data removed]"
          },
          "metadata": {}
        }
      ]
    },
    {
      "cell_type": "code",
      "source": [
        "# 46. Write a Python program to train an SVM Classifier and visualize the Precision-Recall Curve.\n",
        "\n",
        "from sklearn.datasets import load_breast_cancer\n",
        "from sklearn.model_selection import train_test_split\n",
        "from sklearn.preprocessing import StandardScaler\n",
        "from sklearn.svm import SVC\n",
        "from sklearn.metrics import precision_recall_curve, average_precision_score\n",
        "import matplotlib.pyplot as plt\n",
        "\n",
        "x , y = load_breast_cancer(return_X_y=True) # Load and split train-test data\n",
        "x_train, x_test, y_train, y_test = train_test_split(x, y, test_size=0.20, random_state=1)\n",
        "\n",
        "# Scale features\n",
        "scaler = StandardScaler()\n",
        "x_train = scaler.fit_transform(x_train)\n",
        "x_test = scaler.transform(x_test)\n",
        "\n",
        "# Train SVM\n",
        "classifier = SVC(kernel='linear', probability=True)\n",
        "classifier.fit(x_train, y_train)\n",
        "scores = classifier.decision_function(x_test)\n",
        "\n",
        "# Precision-Recall\n",
        "precision, recall, _ = precision_recall_curve(y_test, scores)\n",
        "avg_precision = average_precision_score(y_test, scores)\n",
        "\n",
        "# Plot\n",
        "plt.step(recall, precision, label=f'AP = {avg_precision:.2f}')\n",
        "plt.xlabel('Recall')\n",
        "plt.ylabel('Precision')\n",
        "plt.title('Precision-Recall Curve')\n",
        "plt.legend()\n",
        "plt.grid()\n",
        "plt.show()"
      ],
      "metadata": {
        "id": "fShBWNZAIraY",
        "colab": {
          "base_uri": "https://localhost:8080/",
          "height": 472
        },
        "outputId": "1bc7c688-a947-4a66-c966-13d253ae21e3"
      },
      "execution_count": 44,
      "outputs": [
        {
          "output_type": "display_data",
          "data": {
            "text/plain": [
              "<Figure size 640x480 with 1 Axes>"
            ],
            "image/png": "[encoded data removed]"
          },
          "metadata": {}
        }
      ]
    }
  ]
}